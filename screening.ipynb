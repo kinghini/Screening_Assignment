{
 "cells": [
  {
   "cell_type": "markdown",
   "id": "d0aa6c59",
   "metadata": {},
   "source": [
    "Multiple inheritance\n",
    "\n",
    "        When  a class is derived from more than one base class it is called multiple inheritance.The derived class inherits all the features of  base classes\n",
    "\n",
    "\n",
    "\n",
    "       "
   ]
  },
  {
   "cell_type": "code",
   "execution_count": 1,
   "id": "60177c4e",
   "metadata": {},
   "outputs": [],
   "source": [
    "class xyz:\n",
    "    def __init__(self, a,b,c) :\n",
    "        self.a= a \n",
    "        self.b= b \n",
    "        self.c= c \n",
    "        \n",
    "        \n",
    "    def test(self) :\n",
    "        \n",
    "        print(\"this is a method from xyz class \")\n",
    "    \n",
    "class xyz1:\n",
    "    \n",
    "    def __init__(self , p,q,v) :\n",
    "        self.p = p \n",
    "        self.v = v \n",
    "        self.q = q \n",
    "        \n",
    "    def test1(self) : \n",
    "        print(\"this is a method from class xyz1\")\n",
    "        \n",
    "class child(xyz1,xyz):\n",
    "    def __init__(self , *args ,**kwargs):\n",
    "        xyz.__init__(self,*args) \n",
    "        xyz1.__init__(self,**kwargs)"
   ]
  },
  {
   "cell_type": "code",
   "execution_count": 2,
   "id": "b126f25f",
   "metadata": {},
   "outputs": [],
   "source": [
    "t=child(4,5,6,p=7,q=8,v=9)"
   ]
  },
  {
   "cell_type": "code",
   "execution_count": 3,
   "id": "231b69a3",
   "metadata": {},
   "outputs": [
    {
     "data": {
      "text/plain": [
       "4"
      ]
     },
     "execution_count": 3,
     "metadata": {},
     "output_type": "execute_result"
    }
   ],
   "source": [
    "t.a"
   ]
  },
  {
   "cell_type": "code",
   "execution_count": 4,
   "id": "b5376e56",
   "metadata": {},
   "outputs": [
    {
     "data": {
      "text/plain": [
       "5"
      ]
     },
     "execution_count": 4,
     "metadata": {},
     "output_type": "execute_result"
    }
   ],
   "source": [
    "t.b"
   ]
  },
  {
   "cell_type": "markdown",
   "id": "f06fa7bc",
   "metadata": {},
   "source": [
    "2.Decorators\n",
    "\n",
    "    Python decorators is a function that takes in a function adds some functionality to it and returns the original function\n"
   ]
  },
  {
   "cell_type": "code",
   "execution_count": 5,
   "id": "b49ea203",
   "metadata": {},
   "outputs": [],
   "source": [
    "def div(a,b):\n",
    "    print(a/b)\n",
    "    \n",
    "    \n",
    "    \n",
    "def chck_div(func):\n",
    "   #If dinominator value is greater then numerator dinominator value changed \n",
    "    def inner(a,b):\n",
    "        if  a<b:\n",
    "            a,b= b,a\n",
    "        return func(a,b)\n",
    "    \n",
    "    return(inner)\n",
    "    "
   ]
  },
  {
   "cell_type": "code",
   "execution_count": 6,
   "id": "11437d35",
   "metadata": {},
   "outputs": [],
   "source": [
    "div1= chck_div(div)"
   ]
  },
  {
   "cell_type": "code",
   "execution_count": 7,
   "id": "da1f8252",
   "metadata": {},
   "outputs": [
    {
     "name": "stdout",
     "output_type": "stream",
     "text": [
      "2.0\n"
     ]
    }
   ],
   "source": [
    "div1(4,8)"
   ]
  },
  {
   "cell_type": "code",
   "execution_count": 8,
   "id": "c34a3797",
   "metadata": {},
   "outputs": [
    {
     "name": "stdout",
     "output_type": "stream",
     "text": [
      "7.5\n"
     ]
    }
   ],
   "source": [
    "decorated_fn=chck_div(div)\n",
    "decorated_fn(30,4)"
   ]
  },
  {
   "cell_type": "markdown",
   "id": "4bc7e8b5",
   "metadata": {},
   "source": [
    "Abstract class:"
   ]
  },
  {
   "cell_type": "code",
   "execution_count": 29,
   "id": "6e0b04a3",
   "metadata": {},
   "outputs": [],
   "source": [
    "from abc import abstractmethod\n",
    "class School_subjects :\n",
    "    \n",
    "    @abstractmethod\n",
    "    def Subjects_records(self) :\n",
    "        pass\n",
    "    \n",
    "    def Science(self) :\n",
    "        pass\n",
    "    \n",
    "    def Maths(self) :\n",
    "        pass\n",
    "    \n",
    "    def Social(self) :\n",
    "        pass\n",
    "    \n",
    "    def Physics(self) :\n",
    "        pass\n",
    "    \n",
    "    def Electronics(self) :\n",
    "        pass\n",
    "    \n",
    "   "
   ]
  },
  {
   "cell_type": "code",
   "execution_count": null,
   "id": "e181ee56",
   "metadata": {},
   "outputs": [],
   "source": []
  },
  {
   "cell_type": "markdown",
   "id": "04c625df",
   "metadata": {},
   "source": [
    "Create a function in python to read the text file and replace specific content\n",
    "of the file.\n",
    "File name example.txt\n",
    "Origin file content This is a placement assignment\n",
    "Replace string Placement should be replaced by\n",
    "screening.\n"
   ]
  },
  {
   "cell_type": "code",
   "execution_count": 20,
   "id": "88df3af5",
   "metadata": {},
   "outputs": [],
   "source": [
    "def f1():\n",
    "    f=open('example.txt',\"r+\")\n",
    "    w=f.read()\n",
    "    w1=w.replace('placement','screening')\n",
    "    return(w1)"
   ]
  },
  {
   "cell_type": "code",
   "execution_count": 21,
   "id": "1dc617e4",
   "metadata": {},
   "outputs": [
    {
     "data": {
      "text/plain": [
       "'This is screening assignment'"
      ]
     },
     "execution_count": 21,
     "metadata": {},
     "output_type": "execute_result"
    }
   ],
   "source": [
    "f1()"
   ]
  },
  {
   "cell_type": "code",
   "execution_count": null,
   "id": "945f27d2",
   "metadata": {},
   "outputs": [],
   "source": []
  }
 ],
 "metadata": {
  "kernelspec": {
   "display_name": "Python 3 (ipykernel)",
   "language": "python",
   "name": "python3"
  },
  "language_info": {
   "codemirror_mode": {
    "name": "ipython",
    "version": 3
   },
   "file_extension": ".py",
   "mimetype": "text/x-python",
   "name": "python",
   "nbconvert_exporter": "python",
   "pygments_lexer": "ipython3",
   "version": "3.9.7"
  }
 },
 "nbformat": 4,
 "nbformat_minor": 5
}
